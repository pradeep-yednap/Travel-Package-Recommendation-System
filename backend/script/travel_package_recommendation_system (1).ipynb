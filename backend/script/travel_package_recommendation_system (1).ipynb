{
 "cells": [
  {
   "cell_type": "code",
   "execution_count": 98,
   "id": "a4d53d90",
   "metadata": {},
   "outputs": [],
   "source": [
    "import pandas as pd\n",
    "import numpy as np\n",
    "import pickle\n",
    "from sklearn.model_selection import train_test_split\n",
    "from sklearn.ensemble import RandomForestRegressor\n",
    "from sklearn.metrics import mean_squared_error\n"
   ]
  },
  {
   "cell_type": "code",
   "execution_count": 99,
   "id": "fb2b0d42",
   "metadata": {},
   "outputs": [],
   "source": [
    "# Load your datasets\n",
    "ratings_data = pd.read_csv(\"ratings.csv\")\n",
    "package_data = pd.read_csv(\"package.csv\")\n"
   ]
  },
  {
   "cell_type": "code",
   "execution_count": 100,
   "id": "e1b079ea",
   "metadata": {},
   "outputs": [],
   "source": [
    "# Convert 'Price' to numeric after removing commas\n",
    "package_data['Price'] = package_data['Price'].str.replace(',', '').astype(int)"
   ]
  },
  {
   "cell_type": "code",
   "execution_count": 101,
   "id": "8cb20aa0",
   "metadata": {},
   "outputs": [],
   "source": [
    "# Create a 'Package' column in package_data that matches the format in ratings_data\n",
    "package_data['Package'] = 's' + package_data['S.N'].astype(str)\n",
    "\n",
    "# Merge the datasets on 'Package'\n",
    "combined_data = pd.merge(ratings_data, package_data, on='Package')\n"
   ]
  },
  {
   "cell_type": "code",
   "execution_count": 102,
   "id": "bdf1995a",
   "metadata": {},
   "outputs": [
    {
     "name": "stdout",
     "output_type": "stream",
     "text": [
      "Mean Squared Error: 2.3178719763255997\n"
     ]
    }
   ],
   "source": [
    "# Model Training with only Duration and Price as features\n",
    "X = combined_data[['Duration', 'Price']]\n",
    "y = combined_data['Rating']\n",
    "\n",
    "X_train, X_test, y_train, y_test = train_test_split(X, y, test_size=0.2, random_state=42)\n",
    "\n",
    "model = RandomForestRegressor(n_estimators=100, random_state=42)\n",
    "model.fit(X_train, y_train)\n",
    "\n",
    "y_pred = model.predict(X_test)\n",
    "mse = mean_squared_error(y_test, y_pred)\n",
    "print(\"Mean Squared Error:\", mse)\n"
   ]
  },
  {
   "cell_type": "code",
   "execution_count": 103,
   "id": "e0b398a1",
   "metadata": {},
   "outputs": [
    {
     "name": "stdout",
     "output_type": "stream",
     "text": [
      "Model saved to travel.pkl\n"
     ]
    }
   ],
   "source": [
    "# Save the model to a .pkl file\n",
    "model_filename = 'travel.pkl'\n",
    "with open(model_filename, 'wb') as file:\n",
    "    pickle.dump(model, file)\n",
    "\n",
    "print(f\"Model saved to {model_filename}\")"
   ]
  },
  {
   "cell_type": "code",
   "execution_count": 104,
   "id": "ffff5a7a",
   "metadata": {},
   "outputs": [],
   "source": [
    "def recommend(duration, price):\n",
    "    # Create DataFrame for all packages\n",
    "    all_packages = package_data.copy()\n",
    "    all_packages['PredictedRating'] = model.predict(all_packages[['Duration', 'Price']])\n",
    "    \n",
    "    # Sort the packages by their predicted rating in descending order\n",
    "    sorted_packages = all_packages.sort_values(by='PredictedRating', ascending=False)\n",
    "\n",
    "    # Filter packages close to the specified duration and price\n",
    "    # You might want to define a tolerance for duration and price to widen the search\n",
    "    duration_tolerance = 0  # For example, +/- 3 days\n",
    "    price_tolerance = 5000  # For example, +/- 5000 units of currency\n",
    "\n",
    "    # Find packages within the specified tolerances\n",
    "    close_matches = sorted_packages.loc[(abs(sorted_packages['Duration'] - duration) <= duration_tolerance) & \n",
    "                                        (abs(sorted_packages['Price'] - price) <= price_tolerance)]\n",
    "\n",
    "    # Select the top 5 packages\n",
    "    top_5_packages = close_matches.head(5)\n",
    "\n",
    "    if not top_5_packages.empty:\n",
    "        return top_5_packages\n",
    "    else:\n",
    "        return \"No matching packages found.\""
   ]
  },
  {
   "cell_type": "code",
   "execution_count": 105,
   "id": "a5846e66",
   "metadata": {
    "scrolled": false
   },
   "outputs": [
    {
     "name": "stdout",
     "output_type": "stream",
     "text": [
      "    S.N            Travel Company Destination  Price  Duration Package  \\\n",
      "8     9      Mountain Top Travels   Muktinath  15000         3      s9   \n",
      "7     8      Mountain Top Travels      Jomsom  15000         3      s8   \n",
      "88   89  Gaurab Tours and Travels   Muktinath  15000         3     s89   \n",
      "87   88  Gaurab Tours and Travels      Jomsom  15000         3     s88   \n",
      "\n",
      "    PredictedRating  \n",
      "8          3.581142  \n",
      "7          3.581142  \n",
      "88         3.581142  \n",
      "87         3.581142  \n"
     ]
    }
   ],
   "source": [
    "# Example usage\n",
    "top_packages = recommend(3, 20000)\n",
    "print(top_packages)"
   ]
  },
  {
   "cell_type": "code",
   "execution_count": null,
   "id": "899c8bdd",
   "metadata": {},
   "outputs": [],
   "source": []
  }
 ],
 "metadata": {
  "kernelspec": {
   "display_name": "Python 3 (ipykernel)",
   "language": "python",
   "name": "python3"
  },
  "language_info": {
   "codemirror_mode": {
    "name": "ipython",
    "version": 3
   },
   "file_extension": ".py",
   "mimetype": "text/x-python",
   "name": "python",
   "nbconvert_exporter": "python",
   "pygments_lexer": "ipython3",
   "version": "3.11.5"
  }
 },
 "nbformat": 4,
 "nbformat_minor": 5
}
